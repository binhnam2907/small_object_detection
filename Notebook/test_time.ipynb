{
  "nbformat": 4,
  "nbformat_minor": 0,
  "metadata": {
    "colab": {
      "provenance": []
    },
    "kernelspec": {
      "name": "python3",
      "display_name": "Python 3"
    },
    "language_info": {
      "name": "python"
    },
    "accelerator": "GPU",
    "gpuClass": "standard"
  },
  "cells": [
    {
      "cell_type": "code",
      "source": [
        "import cv2\n",
        "import numpy as np\n",
        "import matplotlib.pyplot as plt\n",
        "from google.colab.patches import cv2_imshow\n",
        "from numba import jit"
      ],
      "metadata": {
        "id": "4z75G6cmsGx_"
      },
      "execution_count": 166,
      "outputs": []
    },
    {
      "cell_type": "code",
      "source": [
        "@jit(nopython=True)\n",
        "def get_slices_original(image: np.ndarray, slice_width: int, slice_height: int, overlapped_ratio: float) -> list[np.ndarray]:\n",
        "  window = []\n",
        "  h, w = image.shape[:2]\n",
        "  stepSizeY = int(slice_height - slice_height*overlapped_ratio)\n",
        "  stepSizeX = int(slice_width - slice_width*overlapped_ratio)\n",
        "  for y in range(0, image.shape[0], stepSizeY):\n",
        "    for x in range(0, image.shape[1], stepSizeX):\n",
        "      if w-x < stepSizeX and h-y < stepSizeY:\n",
        "        window.append(image[h-slice_height:h, w-slice_width:w, :])\n",
        "\n",
        "      elif w-x < stepSizeX:\n",
        "        window.append(image[y:y + slice_width, w-slice_width:w, :])\n",
        "\n",
        "      elif h-y < stepSizeY:\n",
        "        window.append(image[h-slice_height:h, x:x + slice_height,:])\n",
        "\n",
        "      else:\n",
        "        window.append(image[y:y + slice_width, x:x + slice_height,:])\n",
        "\n",
        "  return window"
      ],
      "metadata": {
        "id": "S2oIJdga72Tl"
      },
      "execution_count": 195,
      "outputs": []
    },
    {
      "cell_type": "code",
      "source": [
        "@jit(nopython=True)\n",
        "def get_slices_new(image: np.ndarray, slice_width: int, slice_height: int, overlapped_ratio: float) -> list[np.ndarray]:\n",
        "    h, w = image.shape[:2]\n",
        "    stepSizeY = int(slice_height - slice_height*overlapped_ratio)\n",
        "    stepSizeX = int(slice_width - slice_width*overlapped_ratio)\n",
        "    a = np.arange(0,h, stepSizeX)\n",
        "    a[-1] = h - slice_height\n",
        "    b = np.arange(0,w, stepSizeY)\n",
        "    b[-1] = w - slice_width\n",
        "    lst = [image[i:i+slice_height, j:j+slice_width, :] for i in a for j in b]\n",
        "    return lst"
      ],
      "metadata": {
        "id": "Kix8oa_sJlCU"
      },
      "execution_count": 196,
      "outputs": []
    },
    {
      "cell_type": "code",
      "source": [
        "import timeit\n",
        "import random\n",
        "random.seed(0)\n",
        "%timeit -n 500 get_slices_original(np.random.randint(0,255,(random.randint(800,1500), random.randint(800,1500),3)), slice_width=300 , slice_height=300, overlapped_ratio=0.1)\n",
        "\n",
        "random.seed(0)\n",
        "%timeit -n 500 get_slices_new(np.random.randint(0,255,(random.randint(800,1500), random.randint(800,1500),3)), slice_width=300 , slice_height=300, overlapped_ratio=0.1)"
      ],
      "metadata": {
        "colab": {
          "base_uri": "https://localhost:8080/"
        },
        "id": "EiZr5_yAHyeR",
        "outputId": "33bf2473-ea38-440f-f2c7-3d9ecfae1f0c"
      },
      "execution_count": 204,
      "outputs": [
        {
          "output_type": "stream",
          "name": "stdout",
          "text": [
            "19.1 ms ± 1.02 ms per loop (mean ± std. dev. of 7 runs, 500 loops each)\n",
            "18.9 ms ± 620 µs per loop (mean ± std. dev. of 7 runs, 500 loops each)\n"
          ]
        }
      ]
    }
  ]
}